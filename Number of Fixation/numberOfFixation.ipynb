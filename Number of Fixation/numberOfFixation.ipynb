{
 "cells": [
  {
   "cell_type": "code",
   "execution_count": 1,
   "id": "3444cd50",
   "metadata": {},
   "outputs": [],
   "source": [
    "import pandas as pd\n",
    "import os\n",
    "import glob"
   ]
  },
  {
   "cell_type": "code",
   "execution_count": 2,
   "id": "04262928",
   "metadata": {},
   "outputs": [],
   "source": [
    "data_folder = '../data'\n",
    "all_files = glob.glob(os.path.join(data_folder, \"Subject_*_T1_Syllables_fixations.csv\"))"
   ]
  },
  {
   "cell_type": "code",
   "execution_count": 3,
   "id": "9887bb81",
   "metadata": {},
   "outputs": [],
   "source": [
    "num_fixation_data = []\n",
    "all_aoi_sublines = set()\n",
    "\n",
    "for file_path in all_files:\n",
    "    filename = os.path.basename(file_path)\n",
    "    subject_id = filename.split('_')[1]\n",
    "\n",
    "    df = pd.read_csv(file_path)\n",
    "\n",
    "    df = df.dropna(subset=['aoi_subline'])\n",
    "\n",
    "    counts = df.groupby('aoi_subline').size()\n",
    "\n",
    "    aoi_dict = counts.to_dict()\n",
    "    all_aoi_sublines.update(aoi_dict.keys())\n",
    "\n",
    "    row = {'subject_id': subject_id}\n",
    "    row.update(aoi_dict)\n",
    "\n",
    "    num_fixation_data.append(row)\n"
   ]
  },
  {
   "cell_type": "code",
   "execution_count": 4,
   "id": "58baa789",
   "metadata": {},
   "outputs": [],
   "source": [
    "raw_df = pd.DataFrame(num_fixation_data)\n",
    "raw_df = raw_df.set_index('subject_id')\n",
    "raw_df = raw_df.reindex(columns=sorted(all_aoi_sublines))\n",
    "raw_df.reset_index(inplace=True)\n"
   ]
  },
  {
   "cell_type": "code",
   "execution_count": 5,
   "id": "765f00d2",
   "metadata": {},
   "outputs": [
    {
     "name": "stdout",
     "output_type": "stream",
     "text": [
      "Saved: number_of_fixation.csv\n"
     ]
    }
   ],
   "source": [
    "raw_df.to_csv(\"number_of_fixation.csv\", index=False)\n",
    "print(\"Saved: number_of_fixation.csv\")"
   ]
  },
  {
   "cell_type": "code",
   "execution_count": 6,
   "id": "3b58956c",
   "metadata": {},
   "outputs": [
    {
     "name": "stdout",
     "output_type": "stream",
     "text": [
      "Saved: updated_number_of_fixation.csv\n"
     ]
    }
   ],
   "source": [
    "label_file = '../dyslexia_class_label.csv'\n",
    "num_df = pd.read_csv('number_of_fixation.csv')\n",
    "labels_df = pd.read_csv(label_file)\n",
    "merged_df = pd.merge(num_df, labels_df[['subject_id', 'class_id']], on='subject_id', how='left')\n",
    "\n",
    "subject_ids = merged_df['subject_id']\n",
    "class_ids = merged_df['class_id']\n",
    "features_df = merged_df.drop(columns=['subject_id', 'class_id'])\n",
    "\n",
    "features_df = features_df.astype(float)\n",
    "\n",
    "# Impute NaNs using class-wise means\n",
    "for column in features_df.columns:\n",
    "    for cls in merged_df['class_id'].unique():\n",
    "        mask = class_ids == cls\n",
    "        class_mean = features_df.loc[mask, column].mean()\n",
    "        features_df.loc[mask & features_df[column].isna(), column] = class_mean\n",
    "\n",
    "updated_df = pd.concat([subject_ids, features_df], axis=1)\n",
    "updated_df.to_csv(\"updated_number_of_fixation.csv\", index=False)\n",
    "print(\"Saved: updated_number_of_fixation.csv\")\n"
   ]
  },
  {
   "cell_type": "code",
   "execution_count": 7,
   "id": "739eef9c",
   "metadata": {},
   "outputs": [
    {
     "name": "stdout",
     "output_type": "stream",
     "text": [
      "Saved: scaled_number_of_fixation.csv\n"
     ]
    }
   ],
   "source": [
    "from sklearn.preprocessing import StandardScaler\n",
    "\n",
    "df = pd.read_csv(\"updated_number_of_fixation.csv\")\n",
    "subject_ids = df['subject_id']\n",
    "features = df.drop(columns=['subject_id'])\n",
    "\n",
    "scaler = StandardScaler()\n",
    "scaled_features = scaler.fit_transform(features)\n",
    "\n",
    "scaled_df = pd.DataFrame(scaled_features, columns=features.columns)\n",
    "scaled_df.insert(0, 'subject_id', subject_ids)\n",
    "\n",
    "scaled_df.to_csv(\"scaled_number_of_fixation.csv\", index=False)\n",
    "print(\"Saved: scaled_number_of_fixation.csv\")"
   ]
  },
  {
   "cell_type": "code",
   "execution_count": 9,
   "id": "4f63a54e",
   "metadata": {},
   "outputs": [
    {
     "name": "stdout",
     "output_type": "stream",
     "text": [
      "\n",
      "Average Accuracies over 5 folds only using first fixation:\n",
      "\n",
      "MLP (lr=0.05): 55.71%\n",
      "MLP (lr=0.1): 68.57%\n",
      "MLP (lr=0.2): 61.43%\n",
      "kNN (k=1): 67.14%\n",
      "kNN (k=3): 60.00%\n",
      "kNN (k=5): 60.00%\n"
     ]
    }
   ],
   "source": [
    "import pandas as pd\n",
    "from sklearn.model_selection import StratifiedKFold\n",
    "from sklearn.neural_network import MLPClassifier\n",
    "from sklearn.neighbors import KNeighborsClassifier\n",
    "from sklearn.metrics import accuracy_score\n",
    "\n",
    "# Load scaled features and labels\n",
    "scaled_df = pd.read_csv('scaled_number_of_fixation.csv')\n",
    "labels_df = pd.read_csv('../dyslexia_class_label.csv')\n",
    "\n",
    "# Merge on subject_id\n",
    "data = scaled_df.merge(labels_df[['subject_id', 'class_id']], on='subject_id')\n",
    "\n",
    "# Features and labels\n",
    "X = data.drop(columns=['subject_id', 'class_id']).values\n",
    "y = data['class_id']\n",
    "\n",
    "# Cross-validation setup\n",
    "skf = StratifiedKFold(n_splits=5, shuffle=True, random_state=42)\n",
    "\n",
    "# Store accuracy results\n",
    "mlp_accs = {0.05: [], 0.1: [], 0.2: []}\n",
    "knn_accs = {1: [], 3: [], 5: []}\n",
    "\n",
    "for train_idx, val_idx in skf.split(X, y):\n",
    "    X_train, X_val = X[train_idx], X[val_idx]\n",
    "    y_train, y_val = y.iloc[train_idx], y.iloc[val_idx]\n",
    "\n",
    "    # Train MLP with different learning rates\n",
    "    for lr in [0.05, 0.1, 0.2]:\n",
    "        mlp = MLPClassifier(\n",
    "            hidden_layer_sizes=(225, 112, 56),\n",
    "            learning_rate_init=lr,\n",
    "            alpha=0.2,  # Simulates dropout regularization\n",
    "            max_iter=1000,\n",
    "            random_state=42\n",
    "        )\n",
    "        mlp.fit(X_train, y_train)\n",
    "        preds = mlp.predict(X_val)\n",
    "        acc = accuracy_score(y_val, preds)\n",
    "        mlp_accs[lr].append(acc)\n",
    "\n",
    "    # Train kNN for k = 1, 3, 5\n",
    "    for k in [1, 3, 5]:\n",
    "        knn = KNeighborsClassifier(n_neighbors=k)\n",
    "        knn.fit(X_train, y_train)\n",
    "        preds = knn.predict(X_val)\n",
    "        acc = accuracy_score(y_val, preds)\n",
    "        knn_accs[k].append(acc)\n",
    "\n",
    "# Print averaged results\n",
    "print(\"\\nAverage Accuracies over 5 folds only using first fixation:\\n\")\n",
    "\n",
    "# MLP results\n",
    "for lr in [0.05, 0.1, 0.2]:\n",
    "    avg_acc = sum(mlp_accs[lr]) / len(mlp_accs[lr])\n",
    "    print(f\"MLP (lr={lr}): {avg_acc:.2%}\")\n",
    "\n",
    "# kNN results\n",
    "for k in [1, 3, 5]:\n",
    "    avg_acc = sum(knn_accs[k]) / len(knn_accs[k])\n",
    "    print(f\"kNN (k={k}): {avg_acc:.2%}\")\n"
   ]
  },
  {
   "cell_type": "code",
   "execution_count": null,
   "id": "159a9f2d",
   "metadata": {},
   "outputs": [
    {
     "name": "stdout",
     "output_type": "stream",
     "text": [
      "Logistic Regression Accuracy: 0.7000000000000001\n",
      "SVM Accuracy: 0.6142857142857143\n",
      "Random Forest Accuracy: 0.7714285714285715\n",
      "Ridge Classifier Accuracy: 0.6142857142857143\n",
      "Feature-selected Logistic Regression Accuracy: 0.7571428571428572\n"
     ]
    }
   ],
   "source": [
    "from sklearn.pipeline import make_pipeline\n",
    "from sklearn.linear_model import LogisticRegression, RidgeClassifier\n",
    "from sklearn.svm import SVC\n",
    "from sklearn.ensemble import RandomForestClassifier\n",
    "from sklearn.feature_selection import SelectKBest, f_classif\n",
    "from sklearn.model_selection import StratifiedKFold, cross_val_score\n",
    "from sklearn.preprocessing import StandardScaler\n",
    "\n",
    "cv = StratifiedKFold(n_splits=5, shuffle=True, random_state=42)\n",
    "\n",
    "# Logistic Regression\n",
    "logreg_pipeline = make_pipeline(StandardScaler(), LogisticRegression(max_iter=1000))\n",
    "logreg_scores = cross_val_score(logreg_pipeline, X, y, cv=cv, scoring='accuracy')\n",
    "print(\"Logistic Regression Accuracy:\", logreg_scores.mean())\n",
    "\n",
    "# SVM (Linear Kernel)\n",
    "svm_pipeline = make_pipeline(StandardScaler(), SVC(kernel='linear', C=1.0))\n",
    "svm_scores = cross_val_score(svm_pipeline, X, y, cv=cv, scoring='accuracy')\n",
    "print(\"SVM Accuracy:\", svm_scores.mean())\n",
    "\n",
    "# Random Forest\n",
    "rf = RandomForestClassifier(n_estimators=100, max_depth=4, random_state=42)\n",
    "rf_scores = cross_val_score(rf, X, y, cv=cv, scoring='accuracy')\n",
    "print(\"Random Forest Accuracy:\", rf_scores.mean())\n",
    "\n",
    "# Ridge Classifier\n",
    "ridge_pipeline = make_pipeline(StandardScaler(), RidgeClassifier(alpha=1.0))\n",
    "ridge_scores = cross_val_score(ridge_pipeline, X, y, cv=cv, scoring='accuracy')\n",
    "print(\"Ridge Classifier Accuracy:\", ridge_scores.mean())\n",
    "\n",
    "# Optional: Feature selection\n",
    "from sklearn.pipeline import Pipeline\n",
    "\n",
    "feature_pipeline = Pipeline([\n",
    "    ('scaler', StandardScaler()),\n",
    "    ('select', SelectKBest(score_func=f_classif, k=30)),  \n",
    "    ('clf', LogisticRegression(max_iter=1000))\n",
    "])\n",
    "fs_scores = cross_val_score(feature_pipeline, X, y, cv=cv, scoring='accuracy')\n",
    "print(\"Feature-selected Logistic Regression Accuracy:\", fs_scores.mean())\n",
    "\n"
   ]
  },
  {
   "cell_type": "code",
   "execution_count": 11,
   "id": "7324ba15",
   "metadata": {},
   "outputs": [
    {
     "data": {
      "image/png": "[encoded data removed]",
      "text/plain": [
       "<Figure size 600x400 with 2 Axes>"
      ]
     },
     "metadata": {},
     "output_type": "display_data"
    },
    {
     "name": "stdout",
     "output_type": "stream",
     "text": [
      "Classification Report:\n",
      "               precision    recall  f1-score   support\n",
      "\n",
      "           0       0.56      0.71      0.62         7\n",
      "           1       0.60      0.43      0.50         7\n",
      "\n",
      "    accuracy                           0.57        14\n",
      "   macro avg       0.58      0.57      0.56        14\n",
      "weighted avg       0.58      0.57      0.56        14\n",
      "\n"
     ]
    },
    {
     "data": {
      "image/png": "[encoded data removed]",
      "text/plain": [
       "<Figure size 600x400 with 1 Axes>"
      ]
     },
     "metadata": {},
     "output_type": "display_data"
    },
    {
     "name": "stdout",
     "output_type": "stream",
     "text": [
      "Model saved as 'voting_classifier_dyslexia.pkl'\n",
      "Best SVM Params: {'C': 0.1, 'gamma': 'auto', 'kernel': 'rbf'}\n",
      "Best SVM Accuracy: 0.8\n"
     ]
    }
   ],
   "source": [
    "from sklearn.metrics import classification_report, confusion_matrix, roc_auc_score, roc_curve\n",
    "from sklearn.ensemble import VotingClassifier\n",
    "from sklearn.model_selection import GridSearchCV\n",
    "import matplotlib.pyplot as plt\n",
    "import seaborn as sns\n",
    "import joblib\n",
    "\n",
    "# Train-test split for visualization purposes\n",
    "from sklearn.model_selection import train_test_split\n",
    "X_train, X_test, y_train, y_test = train_test_split(X, y, stratify=y, test_size=0.2, random_state=42)\n",
    "\n",
    "# Define models\n",
    "logreg = LogisticRegression(max_iter=1000)\n",
    "svm = SVC(kernel='linear', probability=True)\n",
    "rf = RandomForestClassifier(n_estimators=100, random_state=42)\n",
    "\n",
    "# Voting Classifier\n",
    "voting = VotingClassifier(estimators=[\n",
    "    ('lr', logreg), \n",
    "    ('svm', svm), \n",
    "    ('rf', rf)\n",
    "], voting='soft')\n",
    "\n",
    "# Train and evaluate\n",
    "voting.fit(X_train, y_train)\n",
    "y_pred = voting.predict(X_test)\n",
    "y_prob = voting.predict_proba(X_test)[:, 1]\n",
    "\n",
    "# Confusion Matrix\n",
    "plt.figure(figsize=(6,4))\n",
    "sns.heatmap(confusion_matrix(y_test, y_pred), annot=True, fmt='d', cmap='Blues')\n",
    "plt.title(\"Confusion Matrix\")\n",
    "plt.xlabel(\"Predicted\")\n",
    "plt.ylabel(\"Actual\")\n",
    "plt.show()\n",
    "\n",
    "# Classification Report\n",
    "print(\"Classification Report:\\n\", classification_report(y_test, y_pred))\n",
    "\n",
    "# ROC-AUC Curve\n",
    "fpr, tpr, _ = roc_curve(y_test, y_prob)\n",
    "plt.figure(figsize=(6,4))\n",
    "plt.plot(fpr, tpr, label=f'ROC Curve (AUC = {roc_auc_score(y_test, y_prob):.2f})')\n",
    "plt.plot([0, 1], [0, 1], 'k--')\n",
    "plt.xlabel(\"False Positive Rate\")\n",
    "plt.ylabel(\"True Positive Rate\")\n",
    "plt.title(\"ROC-AUC Curve\")\n",
    "plt.legend()\n",
    "plt.grid(True)\n",
    "plt.show()\n",
    "\n",
    "# Save model\n",
    "joblib.dump(voting, \"voting_classifier_dyslexia.pkl\")\n",
    "print(\"Model saved as 'voting_classifier_dyslexia.pkl'\")\n",
    "\n",
    "# Optional: Hyperparameter Tuning for SVM\n",
    "param_grid = {\n",
    "    'C': [0.1, 1, 10],\n",
    "    'kernel': ['linear', 'rbf'],\n",
    "    'gamma': ['scale', 'auto']\n",
    "}\n",
    "grid_svm = GridSearchCV(SVC(probability=True), param_grid, cv=5, scoring='accuracy')\n",
    "grid_svm.fit(X, y)\n",
    "print(\"Best SVM Params:\", grid_svm.best_params_)\n",
    "print(\"Best SVM Accuracy:\", grid_svm.best_score_)\n"
   ]
  },
  {
   "cell_type": "code",
   "execution_count": null,
   "id": "98785ef7",
   "metadata": {},
   "outputs": [],
   "source": []
  }
 ],
 "metadata": {
  "kernelspec": {
   "display_name": "Python 3",
   "language": "python",
   "name": "python3"
  },
  "language_info": {
   "codemirror_mode": {
    "name": "ipython",
    "version": 3
   },
   "file_extension": ".py",
   "mimetype": "text/x-python",
   "name": "python",
   "nbconvert_exporter": "python",
   "pygments_lexer": "ipython3",
   "version": "3.10.1"
  }
 },
 "nbformat": 4,
 "nbformat_minor": 5
}
