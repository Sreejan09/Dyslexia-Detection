{
 "cells": [
  {
   "cell_type": "code",
   "execution_count": 1,
   "id": "a1fd4eb0",
   "metadata": {},
   "outputs": [],
   "source": [
    "import pandas as pd\n",
    "import os\n",
    "import glob"
   ]
  },
  {
   "cell_type": "code",
   "execution_count": 2,
   "id": "7c74adbc",
   "metadata": {},
   "outputs": [],
   "source": [
    "data_folder = '../data'\n",
    "all_files = glob.glob(os.path.join(data_folder, \"Subject_*_T1_Syllables_fixations.csv\"))"
   ]
  },
  {
   "cell_type": "code",
   "execution_count": 3,
   "id": "5e21ca29",
   "metadata": {},
   "outputs": [
    {
     "name": "stdout",
     "output_type": "stream",
     "text": [
      "70\n"
     ]
    }
   ],
   "source": [
    "print(len(all_files))"
   ]
  },
  {
   "cell_type": "code",
   "execution_count": 5,
   "id": "31662a69",
   "metadata": {},
   "outputs": [],
   "source": [
    "average_fixation_data = []\n",
    "all_aoi_sublines = set()\n",
    "\n",
    "for file_path in all_files : \n",
    "    file_name = os.path.basename(file_path)\n",
    "    subject_id = file_name.split('_')[1]\n",
    "    \n",
    "    df = pd.read_csv(file_path)\n",
    "\n",
    "    df = df.dropna(subset=['aoi_subline'])\n",
    "\n",
    "    avg_fixations = df.groupby('aoi_subline')['duration_ms'].mean()\n",
    "\n",
    "    aoi_dict = avg_fixations.to_dict()\n",
    "    all_aoi_sublines.update(aoi_dict.keys())\n",
    "\n",
    "    row = {'subject_id': subject_id}\n",
    "    row.update(aoi_dict)\n",
    "\n",
    "    average_fixation_data.append(row)\n"
   ]
  },
  {
   "cell_type": "code",
   "execution_count": 6,
   "id": "0376287a",
   "metadata": {},
   "outputs": [],
   "source": [
    "result_df = pd.DataFrame(average_fixation_data)\n",
    "result_df = result_df.set_index('subject_id')\n",
    "result_df = result_df.reindex(columns=sorted(all_aoi_sublines)) \n",
    "result_df.reset_index(inplace=True)"
   ]
  },
  {
   "cell_type": "code",
   "execution_count": 7,
   "id": "826c196b",
   "metadata": {},
   "outputs": [
    {
     "name": "stdout",
     "output_type": "stream",
     "text": [
      "Saved: average_fixation.csv\n"
     ]
    }
   ],
   "source": [
    "result_df.to_csv(\"average_fixation.csv\", index=False)\n",
    "print(\"Saved: average_fixation.csv\")"
   ]
  },
  {
   "cell_type": "code",
   "execution_count": 8,
   "id": "9a97c4c6",
   "metadata": {},
   "outputs": [
    {
     "name": "stdout",
     "output_type": "stream",
     "text": [
      "45\n"
     ]
    }
   ],
   "source": [
    "avg_df = pd.read_csv('average_fixation.csv')\n",
    "print(avg_df.isna().sum().sum())"
   ]
  },
  {
   "cell_type": "code",
   "execution_count": 9,
   "id": "42bdecf2",
   "metadata": {},
   "outputs": [
    {
     "name": "stdout",
     "output_type": "stream",
     "text": [
      "preprocessed_average_fixation.csv created successfully.\n"
     ]
    }
   ],
   "source": [
    "labels_df = pd.read_csv('../dyslexia_class_label.csv')\n",
    "\n",
    "merged_df = pd.merge(avg_df, labels_df[['subject_id', 'class_id']], on = 'subject_id', how = 'left')\n",
    "\n",
    "subject_ids = merged_df['subject_id']\n",
    "class_ids = merged_df['class_id']\n",
    "\n",
    "avg_only = merged_df.drop(columns=['subject_id', 'class_id'])\n",
    "\n",
    "for column in avg_only.columns:\n",
    "    for cls in merged_df['class_id'].unique():\n",
    "        class_mask = class_ids == cls\n",
    "        class_column_mean = avg_only.loc[class_mask, column].mean()\n",
    "\n",
    "        # Fill NaNs in this column only for the corresponding class\n",
    "        avg_only.loc[class_mask & avg_only[column].isna(), column] = class_column_mean\n",
    "\n",
    "# Reattach subject_id and sort columns\n",
    "updated_df = pd.concat([subject_ids, avg_only], axis=1)\n",
    "\n",
    "# Save the updated dataframe to CSV\n",
    "updated_df.to_csv(\"preprocessed_average_fixation.csv\", index=False)\n",
    "\n",
    "print(\"preprocessed_average_fixation.csv created successfully.\")\n",
    "\n"
   ]
  },
  {
   "cell_type": "code",
   "execution_count": 10,
   "id": "f8092d95",
   "metadata": {},
   "outputs": [
    {
     "name": "stdout",
     "output_type": "stream",
     "text": [
      "0\n"
     ]
    }
   ],
   "source": [
    "preprocessed_data = pd.read_csv('preprocessed_average_fixation.csv')\n",
    "print(preprocessed_data.isna().sum().sum())"
   ]
  },
  {
   "cell_type": "code",
   "execution_count": 11,
   "id": "d74a3a9f",
   "metadata": {},
   "outputs": [
    {
     "name": "stdout",
     "output_type": "stream",
     "text": [
      "Scaled data saved as scaled_average_fixation.csv\n"
     ]
    }
   ],
   "source": [
    "import pandas as pd\n",
    "from sklearn.preprocessing import StandardScaler\n",
    "\n",
    "df = pd.read_csv(\"preprocessed_average_fixation.csv\")\n",
    "\n",
    "subject_ids = df['subject_id']\n",
    "features = df.drop(columns=['subject_id'])\n",
    "\n",
    "# Z-scale the features column-wise\n",
    "scaler = StandardScaler()\n",
    "scaled_features = scaler.fit_transform(features)\n",
    "\n",
    "# Convert back to DataFrame with original column names\n",
    "scaled_df = pd.DataFrame(scaled_features, columns=features.columns)\n",
    "\n",
    "# Reattach subject_id\n",
    "scaled_df.insert(0, 'subject_id', subject_ids)\n",
    "\n",
    "# Save the scaled data\n",
    "scaled_df.to_csv(\"scaled_average_fixation.csv\", index=False)\n",
    "\n",
    "print(\"Scaled data saved as scaled_average_fixation.csv\")\n"
   ]
  },
  {
   "cell_type": "code",
   "execution_count": 16,
   "id": "2b365eff",
   "metadata": {},
   "outputs": [
    {
     "name": "stdout",
     "output_type": "stream",
     "text": [
      "\n",
      "Average Accuracies over 5 folds only using fixation:\n",
      "\n",
      "MLP (lr=0.05): 82.86%\n",
      "MLP (lr=0.1): 77.14%\n",
      "MLP (lr=0.2): 67.14%\n",
      "kNN (k=1): 64.29%\n",
      "kNN (k=3): 62.86%\n",
      "kNN (k=5): 64.29%\n"
     ]
    }
   ],
   "source": [
    "import pandas as pd\n",
    "from sklearn.model_selection import StratifiedKFold\n",
    "from sklearn.neural_network import MLPClassifier\n",
    "from sklearn.neighbors import KNeighborsClassifier\n",
    "from sklearn.metrics import accuracy_score\n",
    "\n",
    "# Load scaled features and labels\n",
    "scaled_df = pd.read_csv('scaled_average_fixation.csv')\n",
    "labels_df = pd.read_csv('../dyslexia_class_label.csv')\n",
    "\n",
    "# Merge on subject_id\n",
    "data = scaled_df.merge(labels_df[['subject_id', 'class_id']], on='subject_id')\n",
    "\n",
    "# Features and labels\n",
    "X = data.drop(columns=['subject_id', 'class_id']).values\n",
    "y = data['class_id']\n",
    "\n",
    "# Cross-validation setup\n",
    "skf = StratifiedKFold(n_splits=5, shuffle=True, random_state=42)\n",
    "\n",
    "# Store accuracy results\n",
    "mlp_accs = {0.05: [], 0.1: [], 0.2: []}\n",
    "knn_accs = {1: [], 3: [], 5: []}\n",
    "\n",
    "for train_idx, val_idx in skf.split(X, y):\n",
    "    X_train, X_val = X[train_idx], X[val_idx]\n",
    "    y_train, y_val = y.iloc[train_idx], y.iloc[val_idx]\n",
    "\n",
    "    # Train MLP with different learning rates\n",
    "    for lr in [0.05, 0.1, 0.2]:\n",
    "        mlp = MLPClassifier(\n",
    "            hidden_layer_sizes=(225, 112, 56),\n",
    "            learning_rate_init=lr,\n",
    "            alpha=0.2,  # Simulates dropout regularization\n",
    "            max_iter=1000,\n",
    "            random_state=42\n",
    "        )\n",
    "        mlp.fit(X_train, y_train)\n",
    "        preds = mlp.predict(X_val)\n",
    "        acc = accuracy_score(y_val, preds)\n",
    "        mlp_accs[lr].append(acc)\n",
    "\n",
    "    # Train kNN for k = 1, 3, 5\n",
    "    for k in [1, 3, 5]:\n",
    "        knn = KNeighborsClassifier(n_neighbors=k)\n",
    "        knn.fit(X_train, y_train)\n",
    "        preds = knn.predict(X_val)\n",
    "        acc = accuracy_score(y_val, preds)\n",
    "        knn_accs[k].append(acc)\n",
    "\n",
    "# Print averaged results\n",
    "print(\"\\nAverage Accuracies over 5 folds only using fixation:\\n\")\n",
    "\n",
    "# MLP results\n",
    "for lr in [0.05, 0.1, 0.2]:\n",
    "    avg_acc = sum(mlp_accs[lr]) / len(mlp_accs[lr])\n",
    "    print(f\"MLP (lr={lr}): {avg_acc:.2%}\")\n",
    "\n",
    "# kNN results\n",
    "for k in [1, 3, 5]:\n",
    "    avg_acc = sum(knn_accs[k]) / len(knn_accs[k])\n",
    "    print(f\"kNN (k={k}): {avg_acc:.2%}\")\n"
   ]
  },
  {
   "cell_type": "code",
   "execution_count": 14,
   "id": "02999f54",
   "metadata": {},
   "outputs": [
    {
     "name": "stdout",
     "output_type": "stream",
     "text": [
      "Logistic Regression Accuracy: 0.8142857142857143\n",
      "SVM Accuracy: 0.7857142857142857\n",
      "Random Forest Accuracy: 0.7142857142857143\n",
      "Ridge Classifier Accuracy: 0.6428571428571429\n",
      "Feature-selected Logistic Regression Accuracy: 0.8285714285714285\n"
     ]
    }
   ],
   "source": [
    "from sklearn.pipeline import make_pipeline\n",
    "from sklearn.linear_model import LogisticRegression, RidgeClassifier\n",
    "from sklearn.svm import SVC\n",
    "from sklearn.ensemble import RandomForestClassifier\n",
    "from sklearn.feature_selection import SelectKBest, f_classif\n",
    "from sklearn.model_selection import StratifiedKFold, cross_val_score\n",
    "from sklearn.preprocessing import StandardScaler\n",
    "\n",
    "cv = StratifiedKFold(n_splits=5, shuffle=True, random_state=42)\n",
    "\n",
    "# Logistic Regression\n",
    "logreg_pipeline = make_pipeline(StandardScaler(), LogisticRegression(max_iter=1000))\n",
    "logreg_scores = cross_val_score(logreg_pipeline, X, y, cv=cv, scoring='accuracy')\n",
    "print(\"Logistic Regression Accuracy:\", logreg_scores.mean())\n",
    "\n",
    "# SVM (Linear Kernel)\n",
    "svm_pipeline = make_pipeline(StandardScaler(), SVC(kernel='linear', C=1.0))\n",
    "svm_scores = cross_val_score(svm_pipeline, X, y, cv=cv, scoring='accuracy')\n",
    "print(\"SVM Accuracy:\", svm_scores.mean())\n",
    "\n",
    "# Random Forest\n",
    "rf = RandomForestClassifier(n_estimators=100, max_depth=4, random_state=42)\n",
    "rf_scores = cross_val_score(rf, X, y, cv=cv, scoring='accuracy')\n",
    "print(\"Random Forest Accuracy:\", rf_scores.mean())\n",
    "\n",
    "# Ridge Classifier\n",
    "ridge_pipeline = make_pipeline(StandardScaler(), RidgeClassifier(alpha=1.0))\n",
    "ridge_scores = cross_val_score(ridge_pipeline, X, y, cv=cv, scoring='accuracy')\n",
    "print(\"Ridge Classifier Accuracy:\", ridge_scores.mean())\n",
    "\n",
    "# Optional: Feature selection\n",
    "from sklearn.pipeline import Pipeline\n",
    "\n",
    "feature_pipeline = Pipeline([\n",
    "    ('scaler', StandardScaler()),\n",
    "    ('select', SelectKBest(score_func=f_classif, k=30)),  # Try 30 or change to 45\n",
    "    ('clf', LogisticRegression(max_iter=1000))\n",
    "])\n",
    "fs_scores = cross_val_score(feature_pipeline, X, y, cv=cv, scoring='accuracy')\n",
    "print(\"Feature-selected Logistic Regression Accuracy:\", fs_scores.mean())\n"
   ]
  },
  {
   "cell_type": "code",
   "execution_count": 15,
   "id": "ea80c46c",
   "metadata": {},
   "outputs": [
    {
     "data": {
      "image/png": "[encoded data removed]",
      "text/plain": [
       "<Figure size 600x400 with 2 Axes>"
      ]
     },
     "metadata": {},
     "output_type": "display_data"
    },
    {
     "name": "stdout",
     "output_type": "stream",
     "text": [
      "Classification Report:\n",
      "               precision    recall  f1-score   support\n",
      "\n",
      "           0       0.88      1.00      0.93         7\n",
      "           1       1.00      0.86      0.92         7\n",
      "\n",
      "    accuracy                           0.93        14\n",
      "   macro avg       0.94      0.93      0.93        14\n",
      "weighted avg       0.94      0.93      0.93        14\n",
      "\n"
     ]
    },
    {
     "data": {
      "image/png": "[encoded data removed]",
      "text/plain": [
       "<Figure size 600x400 with 1 Axes>"
      ]
     },
     "metadata": {},
     "output_type": "display_data"
    },
    {
     "name": "stdout",
     "output_type": "stream",
     "text": [
      "Model saved as 'voting_classifier_dyslexia.pkl'\n",
      "Best SVM Params: {'C': 10, 'gamma': 'scale', 'kernel': 'rbf'}\n",
      "Best SVM Accuracy: 0.8571428571428573\n"
     ]
    }
   ],
   "source": [
    "from sklearn.metrics import classification_report, confusion_matrix, roc_auc_score, roc_curve\n",
    "from sklearn.ensemble import VotingClassifier\n",
    "from sklearn.model_selection import GridSearchCV\n",
    "import matplotlib.pyplot as plt\n",
    "import seaborn as sns\n",
    "import joblib\n",
    "\n",
    "# Train-test split for visualization purposes\n",
    "from sklearn.model_selection import train_test_split\n",
    "X_train, X_test, y_train, y_test = train_test_split(X, y, stratify=y, test_size=0.2, random_state=42)\n",
    "\n",
    "# Define models\n",
    "logreg = LogisticRegression(max_iter=1000)\n",
    "svm = SVC(kernel='linear', probability=True)\n",
    "rf = RandomForestClassifier(n_estimators=100, random_state=42)\n",
    "\n",
    "# Voting Classifier\n",
    "voting = VotingClassifier(estimators=[\n",
    "    ('lr', logreg), \n",
    "    ('svm', svm), \n",
    "    ('rf', rf)\n",
    "], voting='soft')\n",
    "\n",
    "# Train and evaluate\n",
    "voting.fit(X_train, y_train)\n",
    "y_pred = voting.predict(X_test)\n",
    "y_prob = voting.predict_proba(X_test)[:, 1]\n",
    "\n",
    "# Confusion Matrix\n",
    "plt.figure(figsize=(6,4))\n",
    "sns.heatmap(confusion_matrix(y_test, y_pred), annot=True, fmt='d', cmap='Blues')\n",
    "plt.title(\"Confusion Matrix\")\n",
    "plt.xlabel(\"Predicted\")\n",
    "plt.ylabel(\"Actual\")\n",
    "plt.show()\n",
    "\n",
    "# Classification Report\n",
    "print(\"Classification Report:\\n\", classification_report(y_test, y_pred))\n",
    "\n",
    "# ROC-AUC Curve\n",
    "fpr, tpr, _ = roc_curve(y_test, y_prob)\n",
    "plt.figure(figsize=(6,4))\n",
    "plt.plot(fpr, tpr, label=f'ROC Curve (AUC = {roc_auc_score(y_test, y_prob):.2f})')\n",
    "plt.plot([0, 1], [0, 1], 'k--')\n",
    "plt.xlabel(\"False Positive Rate\")\n",
    "plt.ylabel(\"True Positive Rate\")\n",
    "plt.title(\"ROC-AUC Curve\")\n",
    "plt.legend()\n",
    "plt.grid(True)\n",
    "plt.show()\n",
    "\n",
    "# Save model\n",
    "joblib.dump(voting, \"voting_classifier_dyslexia.pkl\")\n",
    "print(\"Model saved as 'voting_classifier_dyslexia.pkl'\")\n",
    "\n",
    "# Optional: Hyperparameter Tuning for SVM\n",
    "param_grid = {\n",
    "    'C': [0.1, 1, 10],\n",
    "    'kernel': ['linear', 'rbf'],\n",
    "    'gamma': ['scale', 'auto']\n",
    "}\n",
    "grid_svm = GridSearchCV(SVC(probability=True), param_grid, cv=5, scoring='accuracy')\n",
    "grid_svm.fit(X, y)\n",
    "print(\"Best SVM Params:\", grid_svm.best_params_)\n",
    "print(\"Best SVM Accuracy:\", grid_svm.best_score_)\n"
   ]
  },
  {
   "cell_type": "code",
   "execution_count": null,
   "id": "6e2d5822",
   "metadata": {},
   "outputs": [],
   "source": []
  }
 ],
 "metadata": {
  "kernelspec": {
   "display_name": "Python 3",
   "language": "python",
   "name": "python3"
  },
  "language_info": {
   "codemirror_mode": {
    "name": "ipython",
    "version": 3
   },
   "file_extension": ".py",
   "mimetype": "text/x-python",
   "name": "python",
   "nbconvert_exporter": "python",
   "pygments_lexer": "ipython3",
   "version": "3.10.1"
  }
 },
 "nbformat": 4,
 "nbformat_minor": 5
}
